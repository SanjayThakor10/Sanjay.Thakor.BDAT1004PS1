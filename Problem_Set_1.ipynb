{
 "cells": [
  {
   "cell_type": "markdown",
   "id": "2c9a54a8-1ed5-4919-83a7-21013dda51a3",
   "metadata": {
    "jp-MarkdownHeadingCollapsed": true
   },
   "source": [
    "# Problem Set 1\n",
    "This problem set is based on lectures 1,2 and 3. For a complete list of topics please consult page 2 of the course syllabus. Please consult the “Instructions for Problem Set Submissions” document under course information before submitting your assignment."
   ]
  },
  {
   "cell_type": "markdown",
   "id": "db60e549-3829-42cc-8cc9-1f36241e2d4d",
   "metadata": {},
   "source": [
    "# Question 1\n",
    "What data type is each of the following (evaluate where necessary)?"
   ]
  },
  {
   "cell_type": "markdown",
   "id": "688ccda0-5254-4e7e-a3ac-8d1591a65fd2",
   "metadata": {},
   "source": [
    "|**Question**     | **Answer**|\n",
    "|:--------     |:------:|\n",
    "|5\t           |int|\n",
    "|5.0|\tfloat|\n",
    "|5 > 1|\tbool|\n",
    "|'5'|\tstr|\n",
    "|5 * 2\t|int|\n",
    "|'5' * 2\t|str|\n",
    "|'5' + '2'|\tstr|\n",
    "|5 / 2|\tfloat|\n",
    "|5 % 2|\tint|\n",
    "|{5, 2, 1}|\tset|\n",
    "|5 == 3|\tbool|\n",
    "|Pi (the number) |\tfloat|"
   ]
  },
  {
   "cell_type": "markdown",
   "id": "3056efdf-ba7b-4069-bd44-773a4550bbc9",
   "metadata": {},
   "source": [
    "# Question 2\n",
    "Write (and evaluate) python expressions that answer these questions:"
   ]
  },
  {
   "cell_type": "markdown",
   "id": "327eeb10-9b2e-43ee-8c4f-aeda417d6fdf",
   "metadata": {},
   "source": [
    "a. How many letters are there in 'Supercalifragilisticexpialidocious'?"
   ]
  },
  {
   "cell_type": "code",
   "execution_count": 19,
   "id": "654de212-b213-43cc-8f0f-d4741ff92c39",
   "metadata": {},
   "outputs": [
    {
     "name": "stdout",
     "output_type": "stream",
     "text": [
      "34 letters in Supercalifragilisticexpialidocious\n"
     ]
    }
   ],
   "source": [
    "# the number of letters in the word\n",
    "NumOfLetter = len('Supercalifragilisticexpialidocious')\n",
    "\n",
    "print(NumOfLetter, \"letters in Supercalifragilisticexpialidocious\")"
   ]
  },
  {
   "cell_type": "markdown",
   "id": "b45629bf-48dc-452d-8977-f45bb0e83cd4",
   "metadata": {},
   "source": []
  },
  {
   "cell_type": "markdown",
   "id": "319c5ffb-a20e-402a-935b-229f494554fa",
   "metadata": {},
   "source": [
    "b. Does 'Supercalifragilisticexpialidocious' contain 'ice' as a substring? "
   ]
  },
  {
   "cell_type": "code",
   "execution_count": 21,
   "id": "5d97a225-b6e2-4484-bc11-a86f84b25a5a",
   "metadata": {},
   "outputs": [
    {
     "name": "stdout",
     "output_type": "stream",
     "text": [
      "Yes, 'Supercalifragilisticexpialidocious' includes 'ice'.\n"
     ]
    }
   ],
   "source": [
    "iceCheck = 'ice' in 'Supercalifragilisticexpialidocious'\n",
    "\n",
    "if not iceCheck:\n",
    "    print(\"The word 'Supercalifragilisticexpialidocious' does not have 'ice'.\")\n",
    "print(\"Yes, 'Supercalifragilisticexpialidocious' includes 'ice'.\")\n"
   ]
  },
  {
   "cell_type": "markdown",
   "id": "b2756ec0-2192-4358-b9b2-2b0b1b651dbc",
   "metadata": {},
   "source": []
  },
  {
   "cell_type": "markdown",
   "id": "becfeb14-c60f-4902-8ac7-66abc27a969a",
   "metadata": {},
   "source": [
    "c. Which of the following words is the longest: Supercalifragilisticexpialidocious,  Honorificabilitudinitatibus, or Bababadalgharaghtakamminarronnkonn? "
   ]
  },
  {
   "cell_type": "code",
   "execution_count": 23,
   "id": "9cc2872a-d2d0-45af-bc30-3f0dfcab3974",
   "metadata": {},
   "outputs": [
    {
     "name": "stdout",
     "output_type": "stream",
     "text": [
      "Longest word(s): ['Supercalifragilisticexpialidocious', 'Bababadalgharaghtakamminarronnkonn']\n",
      "Length: 34\n"
     ]
    }
   ],
   "source": [
    "# List of words to compare\n",
    "words = [\n",
    "    \"Supercalifragilisticexpialidocious\",\n",
    "    \"Honorificabilitudinitatibus\",\n",
    "    \"Bababadalgharaghtakamminarronnkonn\"\n",
    "]\n",
    "\n",
    "# Initialize variables to track the longest words\n",
    "max_length = 0\n",
    "longest_words = []\n",
    "\n",
    "# Iterate through the list of words\n",
    "for word in words:\n",
    "    length = len(word)\n",
    "    if length > max_length:\n",
    "        max_length = length\n",
    "        longest_words = [word]  # Start a new list with the current longest word\n",
    "    elif length == max_length:\n",
    "        longest_words.append(word)  # Add to the list if another longest word is found\n",
    "\n",
    "# Output the results\n",
    "print(\"Longest word(s):\", longest_words)\n",
    "print(\"Length:\", max_length)\n"
   ]
  },
  {
   "cell_type": "markdown",
   "id": "1acd72b4-e7ef-4b31-821a-54da29a2da14",
   "metadata": {},
   "source": []
  },
  {
   "cell_type": "markdown",
   "id": "1c89eaed-dcd2-40d5-b237-5b204fc32df4",
   "metadata": {},
   "source": [
    "d. Which composer comes first in the dictionary: 'Berlioz', 'Borodin', 'Brian','Bartok', 'Bellini', 'Buxtehude', 'Bernstein'. Which one comes last?"
   ]
  },
  {
   "cell_type": "code",
   "execution_count": 25,
   "id": "4db47b80-9e4d-45f5-85dc-5cd7a854b1d2",
   "metadata": {},
   "outputs": [
    {
     "name": "stdout",
     "output_type": "stream",
     "text": [
      "Bartok is the first composer in the dictionary.\n",
      "Buxtehude is the last composer in the dictionary.\n"
     ]
    }
   ],
   "source": [
    "# List of composers\n",
    "composers = ['Berlioz', 'Borodin', 'Brian', 'Bartok', 'Bellini', 'Buxtehude', 'Bernstein']\n",
    "\n",
    "# Sort the list\n",
    "sorted_composers = sorted(composers)\n",
    "\n",
    "# Get the first and last composers\n",
    "first_composer = sorted_composers[0]\n",
    "last_composer = sorted_composers[-1]\n",
    "\n",
    "# Print the results\n",
    "print(first_composer, \"is the first composer in the dictionary.\")\n",
    "print(last_composer, \"is the last composer in the dictionary.\")\n"
   ]
  },
  {
   "cell_type": "markdown",
   "id": "2c4c3265-50ac-4b3a-a24c-9c3770882a58",
   "metadata": {},
   "source": [
    "# Question 3\n",
    "Implement function triangleArea(a,b,c) that takes as input the lengths of the 3 sides of a triangle and returns the area of the triangle. By Heron's formula, the area of a triangle with side lengths a, b, and c is under roots(s - a)(s -b)(s -c) w, where s = (a+b+c)/2.\n",
    ">>> triangleArea(2,2,2)\n",
    "1.7320508075688772\n"
   ]
  },
  {
   "cell_type": "code",
   "execution_count": 27,
   "id": "f702f9fd-b100-494d-b18d-fd4f74e6ff8d",
   "metadata": {},
   "outputs": [
    {
     "name": "stdout",
     "output_type": "stream",
     "text": [
      "1.7320508075688772\n"
     ]
    }
   ],
   "source": [
    "import math\n",
    "\n",
    "def triangle_area(a, b, c):\n",
    "    # Calculate semi-perimeter\n",
    "    s = (a + b + c) / 2\n",
    "    \n",
    "    # Calculate area using Heron's formula\n",
    "    area = math.sqrt(s * (s - a) * (s - b) * (s - c))\n",
    "    \n",
    "    return area\n",
    "\n",
    "# Example usage\n",
    "print(triangle_area(2, 2, 2))\n"
   ]
  },
  {
   "cell_type": "markdown",
   "id": "987bde20-ec0b-456e-8ca9-efc5283eb819",
   "metadata": {},
   "source": [
    "# Question 4\n",
    "Write a program in python to separate odd and even integers in separate arrays. Go to the editor\n",
    "Test Data :\n",
    "Input the number of elements to be stored in the array :5\n",
    "Input 5 elements in the array :\n",
    "element - 0 : 25\n",
    "element - 1 : 47\n",
    "element - 2 : 42\n",
    "element - 3 : 56\n",
    "element - 4 : 32\n",
    "Expected Output:\n",
    "The Even elements are:\n",
    "42 56 32\n",
    "The Odd elements are :\n",
    "25 47"
   ]
  },
  {
   "cell_type": "code",
   "execution_count": 29,
   "id": "30c43cc4-e670-435e-aea5-214b0622059a",
   "metadata": {},
   "outputs": [
    {
     "name": "stdin",
     "output_type": "stream",
     "text": [
      "Enter the number of elements to store in the array:  5\n",
      "Element 0:  25\n",
      "Element 1:  47\n",
      "Element 2:  42\n",
      "Element 3:  56\n",
      "Element 4:  32\n"
     ]
    },
    {
     "name": "stdout",
     "output_type": "stream",
     "text": [
      "The even elements are:\n",
      "42 56 32 \n",
      "The odd elements are:\n",
      "25 47 \n"
     ]
    }
   ],
   "source": [
    "def separate_odd_even():\n",
    "    # Input the number of elements\n",
    "    n = int(input(\"Enter the number of elements to store in the array: \"))\n",
    "    \n",
    "    # Initialize lists for even and odd numbers\n",
    "    even_numbers = []\n",
    "    odd_numbers = []\n",
    "    \n",
    "    # Input elements\n",
    "    for i in range(n):\n",
    "        element = int(input(f\"Element {i}: \"))\n",
    "        if element % 2 == 0:\n",
    "            even_numbers.append(element)  # Add to even list\n",
    "        else:\n",
    "            odd_numbers.append(element)  # Add to odd list\n",
    "    \n",
    "    # Print even numbers\n",
    "    print(\"The even elements are:\")\n",
    "    for num in even_numbers:\n",
    "        print(num, end=' ')\n",
    "    print()  # New line after printing even numbers\n",
    "    \n",
    "    # Print odd numbers\n",
    "    print(\"The odd elements are:\")\n",
    "    for num in odd_numbers:\n",
    "        print(num, end=' ')\n",
    "    print()  # New line after printing odd numbers\n",
    "\n",
    "# Call the function\n",
    "separate_odd_even()"
   ]
  },
  {
   "cell_type": "markdown",
   "id": "d1d4a08f-3021-463c-a20d-c89f68e3423b",
   "metadata": {},
   "source": [
    "# Question 5"
   ]
  },
  {
   "cell_type": "markdown",
   "id": "adfeadd0-48c6-4043-9ea0-bc909adda1e6",
   "metadata": {},
   "source": [
    "\n",
    "a. Write a function inside(x,y,x1,y1,x2,y2) that returns True or Fals \r\n",
    "depending on whether the point (x,y) lies in the rectangle with lower le t\r\n",
    "cor er (x1,y1) and upper right corner (x2,y\n",
    "2>>> inside(1,1,0,0,2,3)\r\n",
    "\r\n",
    ">>> inside(-1,-1,0,0,2,3)\n",
    "False\r"
   ]
  },
  {
   "cell_type": "code",
   "execution_count": 31,
   "id": "4f3dd832-a825-4afd-a419-b3d2884084ce",
   "metadata": {},
   "outputs": [
    {
     "name": "stdout",
     "output_type": "stream",
     "text": [
      "True\n",
      "False\n"
     ]
    }
   ],
   "source": [
    "def inside(x, y, x1, y1, x2, y2):\n",
    "    \"\"\"\n",
    "    Parameters (float):\n",
    "    x : x-coordinate of the point\n",
    "    y : y-coordinate of the point\n",
    "    x1: x-coordinate of the lower left corner of the rectangle\n",
    "    y1: y-coordinate of the lower left corner of the rectangle\n",
    "    x2: x-coordinate of the upper right corner of the rectangle\n",
    "    y2: y-coordinate of the upper right corner of the rectangle\n",
    "\n",
    "    Returns:\n",
    "    bool: True if the point is inside the rectangle, False otherwise\n",
    "    \"\"\"\n",
    "    \n",
    "    return x1 <= x <= x2 and y1 <= y <= y2\n",
    "\n",
    "# Example usage\n",
    "print(inside(1, 1, 0, 0, 2, 3))    # Expected Output: True\n",
    "print(inside(-1, -1, 0, 0, 2, 3))  # Expected Output: False\n"
   ]
  },
  {
   "cell_type": "markdown",
   "id": "cb103be6-ad84-44e6-8277-9dcb5ea0e820",
   "metadata": {},
   "source": [
    "b. Use function inside() from part a. to write an expression that tests whether the point (1,1) lies in both of the following rectangles: one with lower left corner (0.3, 0.5) and upper right corner (1.1, 0.7) and the other with lower left corner (0.5, 0.2) and upper right corner (1.1, 2). "
   ]
  },
  {
   "cell_type": "code",
   "execution_count": 33,
   "id": "5a166986-9258-4db0-a459-7cf15b76d807",
   "metadata": {},
   "outputs": [
    {
     "name": "stdout",
     "output_type": "stream",
     "text": [
      "Point (1, 1) inside rectangle 1: False\n",
      "Point (1, 1) inside rectangle 2: True\n"
     ]
    }
   ],
   "source": [
    "def inside(x, y, x1, y1, x2, y2):\n",
    "    return x1 <= x <= x2 and y1 <= y <= y2\n",
    "\n",
    "# Point to check\n",
    "point_x = 1\n",
    "point_y = 1\n",
    "\n",
    "# Check if the point is inside the first rectangle\n",
    "result_r1 = inside(point_x, point_y, 0.3, 0.5, 1.1, 0.7)\n",
    "\n",
    "# Check if the point is inside the second rectangle\n",
    "result_r2 = inside(point_x, point_y, 0.5, 0.2, 1.1, 2)\n",
    "\n",
    "# Print results\n",
    "print(\"Point (1, 1) inside rectangle 1:\", result_r1)  \n",
    "print(\"Point (1, 1) inside rectangle 2:\", result_r2)  \n"
   ]
  },
  {
   "cell_type": "markdown",
   "id": "5f006061-032b-48bd-a7e0-69f4ed5c20a2",
   "metadata": {},
   "source": [
    "# Question 6\n",
    " You can turn a word into pig-Latin using the following two rules (simplified):\n",
    " \n",
    "• If the word starts with a consonant, move that letter to the end and append 'ay'. For example, 'happy' becomes 'appyhay' and 'pencil' becomes 'encilpay'.\n",
    "\n",
    "• If the word starts with a vowel, simply append 'way' to the end of the word. For example, 'enter' becomes 'enterway' and 'other' becomes 'otherway' . For our purposes, there are 5 vowels: a, e, i, o, u (so we count y as a consonant).\n",
    "\n",
    "Write a function pig() that takes a word (i.e., a string) as input and returns its pigLatin form. Your function should still work if the input word contains upper case characters. Your output should always be lower case however.\n",
    ">>> pig('happy')\n",
    "'appyhay'\n",
    ">>> pig('Enter')\n",
    "'enterway'"
   ]
  },
  {
   "cell_type": "code",
   "execution_count": 35,
   "id": "52568630-ea1c-46c5-9330-3b0343e79860",
   "metadata": {},
   "outputs": [
    {
     "name": "stdout",
     "output_type": "stream",
     "text": [
      "appyhay\n",
      "enterway\n"
     ]
    }
   ],
   "source": [
    "def pig(word):\n",
    "    # Convert the word to lowercase\n",
    "    lower_word = word.lower()\n",
    "    \n",
    "    # Check if the first letter is a vowel\n",
    "    if lower_word[0] in 'aeiou':\n",
    "        return lower_word + 'way'  # Append 'way' for words starting with a vowel\n",
    "    else:\n",
    "        # Move the first letter to the end and append 'ay' for words starting with a consonant\n",
    "        return lower_word[1:] + lower_word[0] + 'ay'\n",
    "\n",
    "# Example usage\n",
    "print(pig('happy'))  # Output: 'appyhay'\n",
    "print(pig('Enter'))  # Output: 'enterway'\n"
   ]
  },
  {
   "cell_type": "markdown",
   "id": "521fbcea-bf7d-4329-849f-09b6b0d0ffa9",
   "metadata": {},
   "source": [
    "# Question 7\n",
    "File bloodtype1.txt records blood-types of patients (A, B, AB, O or OO) at a clinic.\n",
    "Write a function bldcount() that reads the file with name name and reports (i.e.,\n",
    "prints) how many patients there are in each bloodtype"
   ]
  },
  {
   "cell_type": "code",
   "execution_count": 37,
   "id": "4dff9a51-fbd4-4af0-918a-6db249dc6e57",
   "metadata": {},
   "outputs": [
    {
     "name": "stdout",
     "output_type": "stream",
     "text": [
      "There are 15 patients of blood type A.\n",
      "There is 1 patients of blood type B.\n",
      "There are 13 patients of blood type AB.\n",
      "There are 15 patients of blood type O.\n",
      "There are no patients of blood type OO.\n"
     ]
    }
   ],
   "source": [
    "def bldcount(bloodtype1):\n",
    "    bloodTypes = ['A', 'B', 'AB', 'O', 'OO']\n",
    "    counts = {bt: 0 for bt in bloodTypes}\n",
    "\n",
    "    # Open and read file contents\n",
    "    infile = open(bloodtype1)  \n",
    "    blood_data = infile.read()  \n",
    "    infile.close()  \n",
    "\n",
    "    # Split the blood data into a list of blood types\n",
    "    blood_list = blood_data.split()\n",
    "\n",
    "    # Count occurrences \n",
    "    for blood in blood_list:\n",
    "        if blood in counts:\n",
    "            counts[blood] += 1\n",
    "\n",
    "    # Answer\n",
    "    for bt in bloodTypes:\n",
    "        count = counts[bt]\n",
    "        print(f\"There {'is' if count == 1 else 'are'} {count or 'no'} patients of blood type {bt}.\")\n",
    "\n",
    "# Example usage\n",
    "bldcount('bloodtype1.txt')"
   ]
  },
  {
   "cell_type": "markdown",
   "id": "ac9ab2c8-cde1-4aa9-b38c-f6b76707703e",
   "metadata": {},
   "source": [
    "# Question 8\n",
    "Write a function curconv() that takes as input:\n",
    "1. a currency represented using a string (e.g., 'JPY' for the Japanese Yen or 'EUR' for the Euro)\n",
    "2. an amount and then converts and returns the amount in US dollars.\n",
    ">>> curconv('EUR', 100)\n",
    "122.96544\n",
    ">>> curconv('JPY', 100)\n",
    "1.241401\n",
    "\n",
    "The currency rates you will need are stored in file currencies.txt:\n",
    "AUD 1.0345157 Australian Dollar\n",
    "CHF 1.0237414 Swiss Franc\n",
    "CNY 0.1550176 Chinese Yuan"
   ]
  },
  {
   "cell_type": "code",
   "execution_count": 39,
   "id": "903b855d-ed1c-46de-8a5c-91e36580b936",
   "metadata": {},
   "outputs": [
    {
     "name": "stdout",
     "output_type": "stream",
     "text": [
      "122.96544\n",
      "1.241401\n"
     ]
    }
   ],
   "source": [
    "def curconv(currency, amount):\n",
    "    \n",
    "    # Open and read the contents of the currency file\n",
    "    infile = open('currencies.txt')  \n",
    "    CurrencyData = infile.read()  \n",
    "    infile.close()  \n",
    "    \n",
    "    # Create a dictionary to store currency conversion rates\n",
    "    rates = {}\n",
    "\n",
    "    # Process each line in the currency data\n",
    "    for line in CurrencyData.splitlines():  # Split the data into individual lines\n",
    "        parts = line.split()  # Split each line into components\n",
    "        if len(parts) >= 2:  # Check that there are enough parts\n",
    "            code = parts[0]  # Get the currency code\n",
    "            rate = float(parts[1])  # Convert the rate to a float\n",
    "            rates[code] = rate  # Store the rate in the dictionary\n",
    "\n",
    "    # Convert the given amount to USD based on the currency rate\n",
    "    return amount * rates[currency]\n",
    "    \n",
    "# Example usage\n",
    "print(curconv('EUR', 100))  # Convert 100 Euros to USD\n",
    "print(curconv('JPY', 100))  # Convert 100 Japanese Yen to USD\n"
   ]
  },
  {
   "cell_type": "markdown",
   "id": "de29eae2-01f4-479b-8d0b-6e52749fe1a4",
   "metadata": {},
   "source": [
    "# Question 9\n",
    "Each of the following will cause an exception (an error). Identify what type of exception each will cause.\n",
    "- Trying to add incompatible variables, as in adding 6 + ‘a’\n",
    "- Referring to the 12th item of a list that has only 10 items\n",
    "- Using a value that is out of range for a function’s input, such as calling math.sqrt(-1.0)\n",
    "- Using an undeclared variable, such as print(x) when x has not been defined\n",
    "- Trying to open a file that does not exist, such asmistyping the file name or looking in the wrong directory. "
   ]
  },
  {
   "cell_type": "markdown",
   "id": "37746657-8fc3-4e4c-a13b-3dbe6e0dfb67",
   "metadata": {},
   "source": [
    "| **Situation**                                                                 | **Exception Type**    |\n",
    "|------------------------------------------------------------------------------|-----------------------|\n",
    "| Trying to add incompatible variables, as in `6 + 'a'`                      | `TypeError`           |\n",
    "| Referring to the 12th item of a list that has only 10 items                | `IndexError`          |\n",
    "| Using a value that is out of range for a function’s input, such as `math.sqrt(-1.0)` | `ValueError`          |\n",
    "| Using an undeclared variable, such as `print(x)` when `x` has not been defined | `NameError`           |\n",
    "| Trying to open a file that does not exist, such as mistyping the file name | `FileNotFoundError`   |\n"
   ]
  },
  {
   "cell_type": "markdown",
   "id": "7e4e4bad-88c1-4199-818a-291414ede033",
   "metadata": {},
   "source": [
    "# Question 10\n",
    "Encryption is the process of hiding the meaning of a text by substituting letters in the message with other letters, according to some system. If the process is successful, no one but the intended recipient can understand the encrypted message. Cryptanalysis refers to attempts to undo the encryption, even if some details of the encryption are unknown (for example, if an encrypted message has been intercepted). The first step\n",
    "of cryptanalysis is often to build up a table of letter frequencies in the encrypted text. Assume that the string letters is already defined as 'abcdefghijklmnopqrstuvwxyz'. Write a function called frequencies() that takes a string as its only parameter, and returns a list of integers, showing the\n",
    "number of times each character appears in the text. Your function may ignore any characters that are not in letters.\n",
    ">>> frequencies('The quick red fox got bored and went home.')\n",
    "[1, 1, 1, 3, 5, 1, 1, 2, 1, 0, 1, 0, 1, 2, 4, 0, 1, 2, 0, 2,\n",
    "1, 0, 1, 1, 0, 0]\n",
    ">>> frequencies('apple')"
   ]
  },
  {
   "cell_type": "code",
   "execution_count": 61,
   "id": "50b75b98-fc46-42f9-8d8e-b74534ce47ee",
   "metadata": {},
   "outputs": [
    {
     "name": "stdout",
     "output_type": "stream",
     "text": [
      "[1, 1, 1, 3, 5, 1, 1, 2, 1, 0, 1, 0, 1, 2, 4, 0, 1, 2, 0, 3, 1, 0, 1, 1, 0, 0]\n",
      "[1, 0, 0, 0, 1, 0, 0, 0, 0, 0, 0, 1, 0, 0, 0, 2, 0, 0, 0, 0, 0, 0, 0, 0, 0, 0]\n"
     ]
    }
   ],
   "source": [
    "def frequencies(text):\n",
    "    # Define the string containing all lowercase letters\n",
    "    letters = 'abcdefghijklmnopqrstuvwxyz'\n",
    "    \n",
    "    # Initialize a list of 26 zeros to count frequency of each letter\n",
    "    freq = [0] * 26\n",
    "    \n",
    "    # Convert the input text to lowercase for case-insensitivity\n",
    "    text = text.lower()\n",
    "    \n",
    "    # Loop through each character in the input text\n",
    "    for char in text:\n",
    "        if char in letters:\n",
    "            index = letters.index(char)  # Get the index of the character in 'letters'\n",
    "            freq[index] += 1  # Increment the count for the corresponding letter\n",
    "\n",
    "    return freq\n",
    "\n",
    "# Example usage\n",
    "print(frequencies('The quick red fox got bored and went home.'))  # Output frequencies for the input text\n",
    "print(frequencies('apple'))  # Output frequencies for 'apple'\n"
   ]
  },
  {
   "cell_type": "code",
   "execution_count": null,
   "id": "ad80e528-f665-42a8-83ae-3fb52685c4c5",
   "metadata": {},
   "outputs": [],
   "source": []
  }
 ],
 "metadata": {
  "kernelspec": {
   "display_name": "Python 3 (ipykernel)",
   "language": "python",
   "name": "python3"
  },
  "language_info": {
   "codemirror_mode": {
    "name": "ipython",
    "version": 3
   },
   "file_extension": ".py",
   "mimetype": "text/x-python",
   "name": "python",
   "nbconvert_exporter": "python",
   "pygments_lexer": "ipython3",
   "version": "3.12.4"
  }
 },
 "nbformat": 4,
 "nbformat_minor": 5
}
